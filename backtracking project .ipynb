{
 "cells": [
  {
   "cell_type": "code",
   "execution_count": 1,
   "metadata": {},
   "outputs": [
    {
     "name": "stdout",
     "output_type": "stream",
     "text": [
      "[0, 59, 38, 33, 30, 17, 8, 63]\n",
      "[37, 34, 31, 60, 9, 62, 29, 16]\n",
      "[58, 1, 36, 39, 32, 27, 18, 7]\n",
      "[35, 48, 41, 26, 61, 10, 15, 28]\n",
      "[42, 57, 2, 49, 40, 23, 6, 19]\n",
      "[47, 50, 45, 54, 25, 20, 11, 14]\n",
      "[56, 43, 52, 3, 22, 13, 24, 5]\n",
      "[51, 46, 55, 44, 53, 4, 21, 12]\n",
      "True\n"
     ]
    }
   ],
   "source": [
    "N = 8\n",
    "\n",
    "def is_valid(i, j, sol):\n",
    "  if (i>=1 and i<=N and j>=1 and j<=N):\n",
    "    if (sol[i][j]==-1):\n",
    "      return True\n",
    "  return False\n",
    "\n",
    "def knight_tour(sol, i, j, step_count, x_move, y_move):\n",
    "  if (step_count == N*N):\n",
    "    return True\n",
    "\n",
    "  for k in range(0, 8):\n",
    "    next_i = i+x_move[k]\n",
    "    next_j = j+y_move[k]\n",
    "\n",
    "    if(is_valid(next_i, next_j, sol)):\n",
    "      sol[next_i][next_j] = step_count\n",
    "      if (knight_tour(sol, next_i, next_j, step_count+1, x_move, y_move)):\n",
    "        return True\n",
    "      sol[next_i][next_j] = -1; # backtracking\n",
    "\n",
    "  return False\n",
    "\n",
    "def start_knight_tour():\n",
    "  sol = []\n",
    "\n",
    "  for i in range(0, N+1):\n",
    "    a = [0]+([-1]*N)\n",
    "    sol.append(a)\n",
    "\n",
    "  x_move = [2, 1, -1, -2, -2, -1, 1, 2]\n",
    "  y_move = [1, 2, 2, 1, -1, -2, -2, -1]\n",
    "\n",
    "  sol[1][1] = 0 # placing knight at cell(1, 1)\n",
    "\n",
    "  if (knight_tour(sol, 1, 1, 1, x_move, y_move)):\n",
    "    for i in range(1, N+1):\n",
    "      print(sol[i][1:])\n",
    "    return True\n",
    "  return False\n",
    "\n",
    "if __name__ == '__main__':\n",
    "  print(start_knight_tour())"
   ]
  },
  {
   "cell_type": "code",
   "execution_count": null,
   "metadata": {},
   "outputs": [],
   "source": []
  }
 ],
 "metadata": {
  "kernelspec": {
   "display_name": "Python 3",
   "language": "python",
   "name": "python3"
  },
  "language_info": {
   "codemirror_mode": {
    "name": "ipython",
    "version": 3
   },
   "file_extension": ".py",
   "mimetype": "text/x-python",
   "name": "python",
   "nbconvert_exporter": "python",
   "pygments_lexer": "ipython3",
   "version": "3.7.4"
  }
 },
 "nbformat": 4,
 "nbformat_minor": 2
}
